{
  "nbformat": 4,
  "nbformat_minor": 0,
  "metadata": {
    "colab": {
      "provenance": []
    },
    "kernelspec": {
      "name": "python3",
      "display_name": "Python 3"
    },
    "language_info": {
      "name": "python"
    }
  },
  "cells": [
    {
      "cell_type": "markdown",
      "source": [
        "Câu 1"
      ],
      "metadata": {
        "id": "ku89T-GveuPH"
      }
    },
    {
      "cell_type": "code",
      "source": [
        "import torch\n",
        "import torch . nn as nn\n",
        "\n",
        "class MySoftmax(nn.Module):\n",
        "  def __init__(self):\n",
        "    super().__init__()\n",
        "  def forward(self, x):\n",
        "    return torch.exp(x) / torch.sum(torch.exp(x), dim = 0)\n",
        "data = torch.Tensor([1, 2, 3])\n",
        "my_softmax = MySoftmax()\n",
        "output = my_softmax(data)\n",
        "output"
      ],
      "metadata": {
        "colab": {
          "base_uri": "https://localhost:8080/"
        },
        "id": "ub_aJZEmetr-",
        "outputId": "30cf7d34-23d4-4a5b-ea56-dfbac5ed35ff"
      },
      "execution_count": 35,
      "outputs": [
        {
          "output_type": "execute_result",
          "data": {
            "text/plain": [
              "tensor([0.0900, 0.2447, 0.6652])"
            ]
          },
          "metadata": {},
          "execution_count": 35
        }
      ]
    },
    {
      "cell_type": "markdown",
      "source": [
        "Câu 2"
      ],
      "metadata": {
        "id": "M1h-WMsWeoS0"
      }
    },
    {
      "cell_type": "code",
      "source": [
        "class Ward :\n",
        "  def __init__ ( self , name : str) :\n",
        "    self . __name = name\n",
        "    self . __listPeople = list ()\n",
        "  def add_person ( self , person : Person ) :\n",
        "    self . __listPeople . append ( person )\n",
        "  def describe ( self ) :\n",
        "    print ( f\" Ward Name : { self . __name }\")\n",
        "    for p in self . __listPeople :\n",
        "      p . describe ()\n",
        "  def count_doctor ( self ) :\n",
        "    count = 0\n",
        "    for p in self . __listPeople :\n",
        "      if isinstance ( p , Doctor ) :\n",
        "        count += 1\n",
        "    return count\n",
        "student1 = Student ( name =\" studentA \", yob =2010 , grade =\"7\")\n",
        "teacher1 = Teacher ( name =\" teacherA \", yob =1969 , subject =\" Math \")\n",
        "teacher2 = Teacher ( name =\" teacherB \", yob =1995 , subject =\" History \")\n",
        "doctor1 = Doctor ( name =\" doctorA \", yob =1945 , specialist =\" Endocrinologists \")\n",
        "doctor2 = Doctor ( name =\" doctorB \", yob =1975 , specialist =\" Cardiologists \")\n",
        "ward1 = Ward ( name =\" Ward1 \")\n",
        "ward1 . add_person ( student1 )\n",
        "ward1 . add_person ( teacher1 )\n",
        "ward1 . add_person ( teacher2 )\n",
        "ward1 . add_person ( doctor1 )\n",
        "ward1 . add_person ( doctor2 )\n",
        "ward1 . count_doctor ()"
      ],
      "metadata": {
        "colab": {
          "base_uri": "https://localhost:8080/"
        },
        "id": "uqtnNohtX4-n",
        "outputId": "1cbe9e55-70dd-40e5-b1c1-cb0509e61080"
      },
      "execution_count": 24,
      "outputs": [
        {
          "output_type": "execute_result",
          "data": {
            "text/plain": [
              "2"
            ]
          },
          "metadata": {},
          "execution_count": 24
        }
      ]
    },
    {
      "cell_type": "markdown",
      "source": [
        "Câu 3"
      ],
      "metadata": {
        "id": "xGnPra5Ud7y0"
      }
    },
    {
      "cell_type": "code",
      "execution_count": 25,
      "metadata": {
        "colab": {
          "base_uri": "https://localhost:8080/"
        },
        "id": "tS0ejqGJXtnV",
        "outputId": "1b8c3f00-6e00-48f9-f437-73feb990b7f6"
      },
      "outputs": [
        {
          "output_type": "stream",
          "name": "stdout",
          "text": [
            "2\n"
          ]
        }
      ],
      "source": [
        "class MyStack:\n",
        "  def __init__(self, capacity):\n",
        "    self.__capacity = capacity\n",
        "    self.__stack = []\n",
        "  def is_full(self):\n",
        "    return len(self.__stack) == self.__capacity\n",
        "  def push(self, value):\n",
        "    if not self.is_full():\n",
        "      self.__stack.append(value)\n",
        "  def pop(self):\n",
        "    if not self.is_empty():\n",
        "      return self.__stack.pop()\n",
        "  def top(self) :\n",
        "    if not self.is_empty():\n",
        "      return self.__stack[-1]\n",
        "  def is_empty(self):\n",
        "    return len(self.__stack) == 0\n",
        "stack1 = MyStack(capacity =5)\n",
        "stack1.push(1)\n",
        "assert stack1.is_full() == False\n",
        "stack1.push(2)\n",
        "print(stack1.top())"
      ]
    },
    {
      "cell_type": "markdown",
      "source": [
        "Câu 4"
      ],
      "metadata": {
        "id": "LMJTrXAWero7"
      }
    },
    {
      "cell_type": "code",
      "source": [
        "class MyQueue :\n",
        "  def __init__(self, capacity):\n",
        "    self.__capacity = capacity\n",
        "    self.__queue = []\n",
        "  def is_full(self):\n",
        "    return len(self.__queue) == self.__capacity\n",
        "  def enqueue(self, value):\n",
        "    if not self.is_full():\n",
        "      self.__queue.append(value)\n",
        "  def dequeue(self):\n",
        "    if not self.is_empty():\n",
        "      return self.__queue.pop(0)\n",
        "  def front(self):\n",
        "    if not self.is_empty():\n",
        "      return self.__queue[0]\n",
        "  def is_empty(self) :\n",
        "    return len(self.__queue) == 0\n",
        "queue1 = MyQueue(capacity =5)\n",
        "queue1.enqueue(1)\n",
        "assert queue1.is_full() == False\n",
        "queue1.enqueue(2)\n",
        "print(queue1.front())"
      ],
      "metadata": {
        "colab": {
          "base_uri": "https://localhost:8080/"
        },
        "id": "fo0-QZGpYS9I",
        "outputId": "5a12c3ca-7144-45e5-b404-63b6bbfb3adb"
      },
      "execution_count": 28,
      "outputs": [
        {
          "output_type": "stream",
          "name": "stdout",
          "text": [
            "1\n"
          ]
        }
      ]
    }
  ]
}