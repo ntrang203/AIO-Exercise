{
 "cells": [
  {
   "cell_type": "markdown",
   "metadata": {},
   "source": [
    "Câu 1:"
   ]
  },
  {
   "cell_type": "code",
   "execution_count": 9,
   "metadata": {},
   "outputs": [
    {
     "name": "stdout",
     "output_type": "stream",
     "text": [
      "0.3636363636363636\n"
     ]
    }
   ],
   "source": [
    "import math\n",
    "\n",
    "def calc_f1_score(tp, fp, fn):\n",
    "  precision = tp / (tp + fp)\n",
    "  recall = tp / (tp + fn)\n",
    "  return 2 * precision * recall / ( precision + recall )\n",
    "\n",
    "tp, fp, fn = map(int, input().split())\n",
    "print(calc_f1_score(tp, fp, fn))"
   ]
  },
  {
   "cell_type": "markdown",
   "metadata": {},
   "source": [
    "Câu 2:"
   ]
  },
  {
   "cell_type": "code",
   "execution_count": 7,
   "metadata": {},
   "outputs": [
    {
     "name": "stdout",
     "output_type": "stream",
     "text": [
      "0.9525741268224334\n",
      "3\n",
      "3\n"
     ]
    }
   ],
   "source": [
    "import math\n",
    "def calc_sig ( x ) :\n",
    "    return 1/(1 + math.exp ( -x ))\n",
    "\n",
    "def calc_relu(x):\n",
    "    result = 0\n",
    "    if x > 0:\n",
    "        result = x\n",
    "    return result\n",
    "\n",
    "def calc_elu(x):\n",
    "    if x > 0:\n",
    "        result = x\n",
    "    else:\n",
    "        result = (math.exp(x) - 1) * 0.01\n",
    "    return result\n",
    "\n",
    "x = int(input())\n",
    "print(calc_sig(x))\n",
    "print(calc_relu(x))\n",
    "print(calc_elu(x))"
   ]
  },
  {
   "cell_type": "markdown",
   "metadata": {},
   "source": [
    "Câu 3:"
   ]
  },
  {
   "cell_type": "code",
   "execution_count": 6,
   "metadata": {},
   "outputs": [
    {
     "name": "stdout",
     "output_type": "stream",
     "text": [
      "0.3316624790355401\n"
     ]
    }
   ],
   "source": [
    "def RMSE(y, y_hat):\n",
    "    sum = 0\n",
    "    for i in range(len(y)):\n",
    "        sum += (y[i] - y_hat[i])**2\n",
    "    return (sum/len(y))**0.5\n",
    "y = [1, 2, 3, 4, 5]\n",
    "y_hat = [1.1, 2.2, 3.3, 4.4, 5.5]\n",
    "print(RMSE(y, y_hat))"
   ]
  },
  {
   "cell_type": "markdown",
   "metadata": {},
   "source": [
    "Câu 4:"
   ]
  },
  {
   "cell_type": "code",
   "execution_count": 5,
   "metadata": {},
   "outputs": [
    {
     "name": "stdout",
     "output_type": "stream",
     "text": [
      "0.0016\n",
      "-1.0\n",
      "11.53\n",
      "11.57\n"
     ]
    }
   ],
   "source": [
    "def approx_sin (x , n ) :\n",
    "    sum = 0\n",
    "    for i in range(n):\n",
    "        sum += ((-1)**i * x**(2*i+1))/math.factorial(2*i+1)\n",
    "    return sum\n",
    "assert round ( approx_sin ( x = 1 , n = 10) , 4) == 0.8415\n",
    "print ( round ( approx_sin ( x =3.14 , n =10) , 4) )\n",
    "\n",
    "def approx_cos (x , n ) :\n",
    "    sum = 0\n",
    "    for i in range(n):\n",
    "        sum += ((-1)**i * x**(2*i))/math.factorial(2*i)\n",
    "    return sum\n",
    "assert round ( approx_cos ( x =1 , n =10) , 2) ==0.54\n",
    "print ( round ( approx_cos ( x =3.14 , n =10) , 2) )\n",
    "\n",
    "def approx_sinh (x , n ) :\n",
    "    sum = 0\n",
    "    for i in range(n):\n",
    "        sum += (x**(2*i+1))/math.factorial(2*i+1)\n",
    "    return sum\n",
    "assert round ( approx_sinh ( x =1 , n =10) , 2) ==1.18\n",
    "print ( round ( approx_sinh ( x =3.14 , n =10) , 2) )\n",
    "\n",
    "def approx_cosh (x , n ) :\n",
    "    sum = 0\n",
    "    for i in range(n):\n",
    "        sum += (x**(2*i))/math.factorial(2*i)\n",
    "    return sum\n",
    "assert round ( approx_cosh ( x =1 , n =10) , 2) ==1.54\n",
    "print ( round ( approx_cosh ( x =3.14 , n =10) , 2) )"
   ]
  },
  {
   "cell_type": "markdown",
   "metadata": {},
   "source": [
    "Câu 5:"
   ]
  },
  {
   "cell_type": "code",
   "execution_count": 4,
   "metadata": {},
   "outputs": [
    {
     "name": "stdout",
     "output_type": "stream",
     "text": [
      "0.025031328369998107\n"
     ]
    }
   ],
   "source": [
    "def md_nre_single_sample(y, y_hat, n, p):\n",
    "    y_root = y ** (1/n)\n",
    "    y_hat_root = y_hat ** (1/n)\n",
    "    difference = y_root - y_hat_root\n",
    "    loss = (difference) ** p\n",
    "    return loss\n",
    "print(md_nre_single_sample(y = 100, y_hat = 99.5, n = 2, p = 1))"
   ]
  },
  {
   "cell_type": "code",
   "execution_count": null,
   "metadata": {},
   "outputs": [],
   "source": []
  }
 ],
 "metadata": {
  "kernelspec": {
   "display_name": "Python 3",
   "language": "python",
   "name": "python3"
  },
  "language_info": {
   "codemirror_mode": {
    "name": "ipython",
    "version": 3
   },
   "file_extension": ".py",
   "mimetype": "text/x-python",
   "name": "python",
   "nbconvert_exporter": "python",
   "pygments_lexer": "ipython3",
   "version": "3.12.0"
  }
 },
 "nbformat": 4,
 "nbformat_minor": 2
}
