{
  "cells": [
    {
      "cell_type": "markdown",
      "metadata": {
        "id": "nIpZS20jfcCD"
      },
      "source": [
        "Câu 1"
      ]
    },
    {
      "cell_type": "code",
      "execution_count": 8,
      "metadata": {
        "colab": {
          "base_uri": "https://localhost:8080/"
        },
        "id": "5AG0A0dseX-z",
        "outputId": "432f4aac-86bf-4feb-8f5a-5c1d771feeb6"
      },
      "outputs": [
        {
          "name": "stdout",
          "output_type": "stream",
          "text": [
            "[5, 5, 5, 5, 10, 12, 33, 33]\n"
          ]
        }
      ],
      "source": [
        "def max_kernel ( num_list , k ) :\n",
        "  result = []\n",
        "  for i in range ( len ( num_list ) - k + 1 ) :\n",
        "    result.append ( max ( num_list [ i : i + k ] ) )\n",
        "  return result\n",
        "\n",
        "assert max_kernel ([3 , 4 , 5 , 1 , -44] , 3) == [5 , 5 , 5]\n",
        "num_list = [3 , 4 , 5 , 1 , -44 , 5 ,10 , 12 ,33 , 1]\n",
        "k = 3\n",
        "print ( max_kernel ( num_list , k ) )"
      ]
    },
    {
      "cell_type": "markdown",
      "metadata": {
        "id": "H2RH_swuf_nh"
      },
      "source": [
        "Câu 2"
      ]
    },
    {
      "cell_type": "code",
      "execution_count": 9,
      "metadata": {
        "colab": {
          "base_uri": "https://localhost:8080/"
        },
        "id": "T4GDyorCejHt",
        "outputId": "18609a91-0356-4942-dff0-bb8c599eda6c"
      },
      "outputs": [
        {
          "name": "stdout",
          "output_type": "stream",
          "text": [
            "{'s': 2, 'm': 1, 'i': 1, 'l': 1, 'e': 1}\n"
          ]
        }
      ],
      "source": [
        "def character_count ( word ) :\n",
        "  character_statistic = {}\n",
        "  for character in word :\n",
        "    if character in character_statistic :\n",
        "      character_statistic [ character ] += 1\n",
        "    else :\n",
        "      character_statistic [ character ] = 1\n",
        "  return character_statistic\n",
        "\n",
        "assert character_count ('Baby') == {'B': 1 , 'a': 1 , 'b': 1 , 'y': 1}\n",
        "print ( character_count ('smiles') )"
      ]
    },
    {
      "cell_type": "markdown",
      "metadata": {
        "id": "fXQPKxaXjjSL"
      },
      "source": [
        "Câu 3"
      ]
    },
    {
      "cell_type": "code",
      "execution_count": 33,
      "metadata": {
        "colab": {
          "base_uri": "https://localhost:8080/"
        },
        "id": "3_KVXxecfzLr",
        "outputId": "5d11887b-279c-4563-ebb4-b93f2428dfd8"
      },
      "outputs": [
        {
          "name": "stdout",
          "output_type": "stream",
          "text": [
            "Downloading...\n",
            "From: https://drive.google.com/uc?id=1IBScGdW2xlNsc9v5zSAya548kNgiOrko\n",
            "To: /content/P1_data.txt\n",
            "\r  0% 0.00/747 [00:00<?, ?B/s]\r100% 747/747 [00:00<00:00, 3.35MB/s]\n",
            "6\n"
          ]
        }
      ],
      "source": [
        "!gdown https://drive.google.com/uc?id=1IBScGdW2xlNsc9v5zSAya548kNgiOrko\n",
        "\n",
        "def count_word ( file_path ) :\n",
        "  counter = {}\n",
        "  with open ( file_path , 'r' ) as f :\n",
        "    for line in f :\n",
        "      for word in line . split () :\n",
        "        if word in counter :\n",
        "          counter [ word ] += 1\n",
        "        else :\n",
        "          counter [ word ] = 1\n",
        "  return counter\n",
        "file_path = '/content/P1_data.txt'\n",
        "result = count_word ( file_path )\n",
        "assert result ['who'] == 3\n",
        "print ( result ['man'])"
      ]
    },
    {
      "cell_type": "markdown",
      "metadata": {
        "id": "BpdWW7Injpgk"
      },
      "source": [
        "Câu 4"
      ]
    },
    {
      "cell_type": "code",
      "execution_count": 36,
      "metadata": {
        "colab": {
          "base_uri": "https://localhost:8080/"
        },
        "id": "TyX2qP1biPnf",
        "outputId": "f8a42f74-6386-46f1-c319-156bbf89e959"
      },
      "outputs": [
        {
          "name": "stdout",
          "output_type": "stream",
          "text": [
            "3\n"
          ]
        }
      ],
      "source": [
        "def levenshtein_distance ( token1 , token2 ) :\n",
        "  m = len ( token1 )\n",
        "  n = len ( token2 )\n",
        "  dp = [ [ 0 for _ in range ( n + 1 ) ] for _ in range ( m + 1 ) ]\n",
        "  for i in range ( m + 1 ) :\n",
        "    dp [ i ] [ 0 ] = i\n",
        "    for j in range ( n + 1 ) :\n",
        "      dp [ 0 ] [ j ] = j\n",
        "      if token1 [ i - 1 ] == token2 [ j - 1 ] :\n",
        "        dp [ i ] [ j ] = dp [ i - 1 ] [ j - 1 ]\n",
        "      else :\n",
        "        dp [ i ] [ j ] = min ( dp [ i - 1 ] [ j ] , dp [ i ] [ j - 1 ] , dp [ i - 1 ] [ j - 1 ] ) + 1\n",
        "      distance = dp [ m ] [ n ]\n",
        "  return distance\n",
        "\n",
        "\n",
        "print ( levenshtein_distance (\" hola \", \" hello \") )"
      ]
    },
    {
      "cell_type": "code",
      "execution_count": null,
      "metadata": {
        "id": "Um7nBW6Ak5qz"
      },
      "outputs": [],
      "source": []
    }
  ],
  "metadata": {
    "colab": {
      "provenance": []
    },
    "kernelspec": {
      "display_name": "Python 3",
      "name": "python3"
    },
    "language_info": {
      "name": "python",
      "version": "3.12.0"
    }
  },
  "nbformat": 4,
  "nbformat_minor": 0
}
